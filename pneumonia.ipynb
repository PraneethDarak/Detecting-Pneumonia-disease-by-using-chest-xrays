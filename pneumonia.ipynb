{
 "cells": [
  {
   "cell_type": "code",
   "execution_count": 1,
   "metadata": {
    "_cell_guid": "b1076dfc-b9ad-4769-8c92-a6c4dae69d19",
    "_uuid": "8f2839f25d086af736a60e9eeb907d3b93b6e0e5"
   },
   "outputs": [],
   "source": [
    "#import libraries"
    "import numpy as np\n",
    "import pandas as pd\n",
    "import os\n",
    "\n",
    "from tensorflow.python.keras.preprocessing.image import ImageDataGenerator, img_to_array, load_img\n",
    "import tensorflow as tf\n",
    "from IPython.display import Image, display"
   ]
  },
  {
   "cell_type": "code",
   "execution_count": 2,
   "metadata": {
    "_cell_guid": "79c7e3d0-c299-4dcb-8224-4455121ee9b0",
    "_uuid": "d629ff2d2480ee46fbb7e2d37f6b5fab8052498a"
   },
   "outputs": [],
   "source": [
    "Image_gen=ImageDataGenerator(rescale=1/255)"
   ]
  },
  {
   "cell_type": "code",
   "execution_count": 3,
   "metadata": {},
   "outputs": [
    {
     "name": "stdout",
     "output_type": "stream",
     "text": [
      "Found 5216 images belonging to 2 classes.\n"
     ]
    }
   ],
   "source": [
    "traindata_gen=Image_gen.flow_from_directory('../input/chest-xray-pneumonia/chest_xray/chest_xray/train',target_size=[300,300],batch_size=32,class_mode='binary')"
   ]
  },
  {
   "cell_type": "code",
   "execution_count": 4,
   "metadata": {},
   "outputs": [
    {
     "name": "stdout",
     "output_type": "stream",
     "text": [
      "Found 624 images belonging to 2 classes.\n"
     ]
    }
   ],
   "source": [
    "testdata_gen=Image_gen.flow_from_directory('../input/chest-xray-pneumonia/chest_xray/chest_xray/test',target_size=[300,300],batch_size=32,class_mode='binary')"
   ]
  },
  {
   "cell_type": "code",
   "execution_count": 5,
   "metadata": {},
   "outputs": [
    {
     "name": "stdout",
     "output_type": "stream",
     "text": [
      "Found 16 images belonging to 2 classes.\n"
     ]
    }
   ],
   "source": [
    "validation_gen=Image_gen.flow_from_directory('../input/chest-xray-pneumonia/chest_xray/chest_xray/val',target_size=[300,300],batch_size=32,class_mode='binary')"
   ]
  },
  {
   "cell_type": "code",
   "execution_count": 6,
   "metadata": {},
   "outputs": [
    {
     "name": "stdout",
     "output_type": "stream",
     "text": [
      "WARNING:tensorflow:From /opt/conda/lib/python3.6/site-packages/tensorflow/python/ops/resource_variable_ops.py:435: colocate_with (from tensorflow.python.framework.ops) is deprecated and will be removed in a future version.\n",
      "Instructions for updating:\n",
      "Colocations handled automatically by placer.\n"
     ]
    }
   ],
   "source": [
    "model=tf.keras.models.Sequential([\n",
    "    tf.keras.layers.Conv2D(16,(3,3),input_shape=[300,300,3],activation=\"relu\"),\n",
    "    tf.keras.layers.MaxPooling2D(2,2),\n",
    "    tf.keras.layers.Conv2D(32,(3,3),activation=\"relu\"),\n",
    "    tf.keras.layers.MaxPooling2D(2,2),\n",
    "    tf.keras.layers.Conv2D(32,(3,3),activation=\"relu\"),\n",
    "    tf.keras.layers.MaxPooling2D(2,2),\n",
    "    tf.keras.layers.Conv2D(32,(3,3),activation=\"relu\"),\n",
    "    tf.keras.layers.MaxPooling2D(2,2),\n",
    "    tf.keras.layers.Flatten(),\n",
    "    tf.keras.layers.Dense(512,activation=\"relu\"),\n",
    "    tf.keras.layers.Dense(1,activation=\"sigmoid\")\n",
    "])"
   ]
  },
  {
   "cell_type": "code",
   "execution_count": 7,
   "metadata": {},
   "outputs": [],
   "source": [
    "model.compile(optimizer=\"adam\",loss=\"binary_crossentropy\",metrics=['accuracy'])"
   ]
  },
  {
   "cell_type": "code",
   "execution_count": 8,
   "metadata": {},
   "outputs": [
    {
     "name": "stdout",
     "output_type": "stream",
     "text": [
      "WARNING:tensorflow:From /opt/conda/lib/python3.6/site-packages/tensorflow/python/ops/math_ops.py:3066: to_int32 (from tensorflow.python.ops.math_ops) is deprecated and will be removed in a future version.\n",
      "Instructions for updating:\n",
      "Use tf.cast instead.\n",
      "Epoch 1/5\n",
      "1/1 [==============================] - 0s 493ms/step - loss: 0.2129 - acc: 0.9375\n",
      "163/163 [==============================] - 71s 434ms/step - loss: 0.2388 - acc: 0.8992 - val_loss: 0.2129 - val_acc: 0.9375\n",
      "Epoch 2/5\n",
      "1/1 [==============================] - 0s 269ms/step - loss: 0.6434 - acc: 0.6875\n",
      "163/163 [==============================] - 66s 403ms/step - loss: 0.1130 - acc: 0.9584 - val_loss: 0.6434 - val_acc: 0.6875\n",
      "Epoch 3/5\n",
      "1/1 [==============================] - 0s 260ms/step - loss: 0.1927 - acc: 0.9375\n",
      "163/163 [==============================] - 66s 403ms/step - loss: 0.0880 - acc: 0.9676 - val_loss: 0.1927 - val_acc: 0.9375\n",
      "Epoch 4/5\n",
      "1/1 [==============================] - 0s 303ms/step - loss: 0.0562 - acc: 1.0000\n",
      "163/163 [==============================] - 65s 396ms/step - loss: 0.0736 - acc: 0.9747 - val_loss: 0.0562 - val_acc: 1.0000\n",
      "Epoch 5/5\n",
      "1/1 [==============================] - 0s 257ms/step - loss: 0.2142 - acc: 0.8750\n",
      "163/163 [==============================] - 66s 408ms/step - loss: 0.0574 - acc: 0.9806 - val_loss: 0.2142 - val_acc: 0.8750\n"
     ]
    }
   ],
   "source": [
    "history=model.fit_generator(traindata_gen,epochs=5,validation_data=validation_gen)"
   ]
  },
  {
   "cell_type": "code",
   "execution_count": 9,
   "metadata": {},
   "outputs": [
    {
     "name": "stdout",
     "output_type": "stream",
     "text": [
      "20/20 [==============================] - 7s 347ms/step - loss: 1.4685 - acc: 0.7516\n"
     ]
    },
    {
     "data": {
      "text/plain": [
       "[1.4685354605317116, 0.7516026]"
      ]
     },
     "execution_count": 9,
     "metadata": {},
     "output_type": "execute_result"
    }
   ],
   "source": [
    "model.evaluate(testdata_gen)"
   ]
  },
  {
   "cell_type": "code",
   "execution_count": 10,
   "metadata": {},
   "outputs": [],
   "source": [
    "img=load_img(\"../input/xray12345/xray.jpg\",target_size=[300,300])\n",
    "dimg=\"../input/xray12345/xray.jpg\""
   ]
  },
  {
   "cell_type": "code",
   "execution_count": 11,
   "metadata": {},
   "outputs": [
    {
     "data": {
      "text/plain": [
       "(300, 300, 3)"
      ]
     },
     "execution_count": 11,
     "metadata": {},
     "output_type": "execute_result"
    }
   ],
   "source": [
    "k=img_to_array(img)\n",
    "k.shape"
   ]
  },
  {
   "cell_type": "code",
   "execution_count": 12,
   "metadata": {},
   "outputs": [],
   "source": [
    "k = k.reshape((1,k.shape[0], k.shape[1],k.shape[2]))"
   ]
  },
  {
   "cell_type": "code",
   "execution_count": 13,
   "metadata": {},
   "outputs": [
    {
     "data": {
      "text/plain": [
       "(1, 300, 300, 3)"
      ]
     },
     "execution_count": 13,
     "metadata": {},
     "output_type": "execute_result"
    }
   ],
   "source": [
    "k.shape"
   ]
  },
  {
   "cell_type": "code",
   "execution_count": 14,
   "metadata": {},
   "outputs": [
    {
     "data": {
      "image/jpeg": "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\n",
      "text/plain": [
       "<IPython.core.display.Image object>"
      ]
     },
     "metadata": {},
     "output_type": "display_data"
    },
    {
     "data": {
      "text/plain": [
       "array([[1]], dtype=int32)"
      ]
     },
     "execution_count": 14,
     "metadata": {},
     "output_type": "execute_result"
    }
   ],
   "source": [
    "\n",
    "display(Image(dimg))\n",
    "model.predict_classes(k)\n"
   ]
  },
  {
   "cell_type": "code",
   "execution_count": 15,
   "metadata": {},
   "outputs": [
    {
     "name": "stdout",
     "output_type": "stream",
     "text": [
      "_________________________________________________________________\n",
      "Layer (type)                 Output Shape              Param #   \n",
      "=================================================================\n",
      "conv2d (Conv2D)              (None, 298, 298, 16)      448       \n",
      "_________________________________________________________________\n",
      "max_pooling2d (MaxPooling2D) (None, 149, 149, 16)      0         \n",
      "_________________________________________________________________\n",
      "conv2d_1 (Conv2D)            (None, 147, 147, 32)      4640      \n",
      "_________________________________________________________________\n",
      "max_pooling2d_1 (MaxPooling2 (None, 73, 73, 32)        0         \n",
      "_________________________________________________________________\n",
      "conv2d_2 (Conv2D)            (None, 71, 71, 32)        9248      \n",
      "_________________________________________________________________\n",
      "max_pooling2d_2 (MaxPooling2 (None, 35, 35, 32)        0         \n",
      "_________________________________________________________________\n",
      "conv2d_3 (Conv2D)            (None, 33, 33, 32)        9248      \n",
      "_________________________________________________________________\n",
      "max_pooling2d_3 (MaxPooling2 (None, 16, 16, 32)        0         \n",
      "_________________________________________________________________\n",
      "flatten (Flatten)            (None, 8192)              0         \n",
      "_________________________________________________________________\n",
      "dense (Dense)                (None, 512)               4194816   \n",
      "_________________________________________________________________\n",
      "dense_1 (Dense)              (None, 1)                 513       \n",
      "=================================================================\n",
      "Total params: 4,218,913\n",
      "Trainable params: 4,218,913\n",
      "Non-trainable params: 0\n",
      "_________________________________________________________________\n"
     ]
    }
   ],
   "source": [
    "model.summary() "
   ]
  },
  {
   "cell_type": "code",
   "execution_count": 16,
   "metadata": {},
   "outputs": [],
   "source": [
    "img1=load_img(\"../input/example123/download.jpg\",target_size=[300,300])\n",
    "k1=img_to_array(img1)\n",
    "k1 = k1.reshape((1,k1.shape[0], k1.shape[1],k1.shape[2]))\n",
    "dimg2=\"../input/example123/download.jpg\""
   ]
  },
  {
   "cell_type": "code",
   "execution_count": 17,
   "metadata": {},
   "outputs": [
    {
     "data": {
      "image/jpeg": "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\n",
      "text/plain": [
       "<IPython.core.display.Image object>"
      ]
     },
     "metadata": {},
     "output_type": "display_data"
    },
    {
     "data": {
      "text/plain": [
       "array([[1]], dtype=int32)"
      ]
     },
     "execution_count": 17,
     "metadata": {},
     "output_type": "execute_result"
    }
   ],
   "source": [
    "display(Image(dimg2))\n",
    "model.predict_classes(k1)\n"
   ]
  },
  {
   "cell_type": "code",
   "execution_count": 18,
   "metadata": {},
   "outputs": [],
   "source": [
    "img2=load_img(\"../input/hamsalen123/download 123.jpg\",target_size=[300,300])\n",
    "k2=img_to_array(img2)\n",
    "k2 = k2.reshape((1,k2.shape[0], k2.shape[1],k2.shape[2]))"
   ]
  },
  {
   "cell_type": "code",
   "execution_count": 19,
   "metadata": {},
   "outputs": [
    {
     "data": {
      "image/jpeg": "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\n",
      "text/plain": [
       "<IPython.core.display.Image object>"
      ]
     },
     "metadata": {},
     "output_type": "display_data"
    },
    {
     "data": {
      "text/plain": [
       "array([[0]], dtype=int32)"
      ]
     },
     "execution_count": 19,
     "metadata": {},
     "output_type": "execute_result"
    }
   ],
   "source": [
    "dimg3=\"../input/hamsalen123/download 123.jpg\"\n",
    "display(Image(dimg3))\n",
    "model.predict_classes(k2)"
   ]
  },
  {
   "cell_type": "code",
   "execution_count": 20,
   "metadata": {},
   "outputs": [],
   "source": [
    "\n"
   ]
  },
  {
   "cell_type": "code",
   "execution_count": 20,
   "metadata": {},
   "outputs": [],
   "source": []
  }
 ],
 "metadata": {
  "kernelspec": {
   "display_name": "Python 3",
   "language": "python",
   "name": "python3"
  },
  "language_info": {
   "codemirror_mode": {
    "name": "ipython",
    "version": 3
   },
   "file_extension": ".py",
   "mimetype": "text/x-python",
   "name": "python",
   "nbconvert_exporter": "python",
   "pygments_lexer": "ipython3",
   "version": "3.6.4"
  }
 },
 "nbformat": 4,
 "nbformat_minor": 1
}
